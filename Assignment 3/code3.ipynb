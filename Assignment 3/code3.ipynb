{
  "nbformat": 4,
  "nbformat_minor": 0,
  "metadata": {
    "colab": {
      "name": "code3.ipynb",
      "provenance": [],
      "collapsed_sections": []
    },
    "kernelspec": {
      "display_name": "Python 3",
      "name": "python3"
    }
  },
  "cells": [
    {
      "cell_type": "code",
      "metadata": {
        "id": "XxRNNsZ-QJi_"
      },
      "source": [
        "import random\r\n",
        "import math\r\n",
        "import pandas as pd\r\n",
        "import numpy as np\r\n",
        "import matplotlib.pyplot as plt\r\n",
        "from sklearn import svm, datasets, metrics\r\n",
        "from sklearn.metrics import accuracy_score"
      ],
      "execution_count": 1,
      "outputs": []
    },
    {
      "cell_type": "code",
      "metadata": {
        "id": "HsH7SkHDOIXQ"
      },
      "source": [
        "# reading the dataset\r\n",
        "df = pd.read_csv(\"data.csv\")\r\n",
        "\r\n",
        "check = np.random.rand(len(df)) < 0.8\r\n",
        "train = df[check]\r\n",
        "test = df[~check]"
      ],
      "execution_count": 2,
      "outputs": []
    },
    {
      "cell_type": "code",
      "metadata": {
        "id": "xFTNPPNIVcs0"
      },
      "source": [
        "# choosing 12000 samples only\r\n",
        "N1 = train.sample(12000)\r\n",
        "\r\n",
        "train1 = train.sample(12000)\r\n",
        "train1 = train1.replace('A', '1')\r\n",
        "train1 = train1.replace(['B', 'C', 'D', 'E', 'F', 'G', 'H', 'I', 'J', 'K', 'L', 'M', 'N', 'O', 'P', 'Q', 'R', 'S', 'T', 'U', 'V', 'W', 'X', 'Y', 'Z'], '-1')\r\n",
        "\r\n",
        "X = train1.drop(['class'], axis = 1).values\r\n",
        "y = train1['class']"
      ],
      "execution_count": 3,
      "outputs": []
    },
    {
      "cell_type": "code",
      "metadata": {
        "id": "s0q1RP4yMNGA",
        "colab": {
          "base_uri": "https://localhost:8080/"
        },
        "outputId": "ad46bbe3-5255-4e7a-adf3-b4a82bd8d295"
      },
      "source": [
        "# initial model\n",
        "svmc = svm.SVC(kernel = 'linear', C = 1).fit(X, y)\n",
        "svmc.predict(X[0].reshape(1, -1))"
      ],
      "execution_count": 4,
      "outputs": [
        {
          "output_type": "execute_result",
          "data": {
            "text/plain": [
              "array(['-1'], dtype=object)"
            ]
          },
          "metadata": {
            "tags": []
          },
          "execution_count": 4
        }
      ]
    },
    {
      "cell_type": "code",
      "metadata": {
        "id": "6ayJEMPc0rQp"
      },
      "source": [
        "# loss function as in paper\r\n",
        "def loss_fun(f, z):\r\n",
        "\tresult = 1 - int(f.predict(z.drop(['class'], axis = 1).values[0].reshape(1, -1))[0]) * int(z['class'].values)\r\n",
        "\treturn result"
      ],
      "execution_count": 5,
      "outputs": []
    },
    {
      "cell_type": "code",
      "metadata": {
        "id": "5d7UcfuIy3gH"
      },
      "source": [
        "# step 1: initialization\r\n",
        "f0 = svmc\r\n",
        "smpl = []\r\n",
        "mplus = 0\r\n",
        "mminus = 0\r\n",
        "k = 0\r\n",
        "check = 0\r\n",
        "ztplus1 = train1.sample()\r\n",
        "\r\n",
        "# step 6\r\n",
        "while (mplus < (len(train1) / 2) and mminus < (len(train1) / 2)):\r\n",
        "  # step 2\r\n",
        "  zt = train1.sample()\r\n",
        "  if (int(zt['class'].values) == 1):\r\n",
        "    mplus = mplus + 1\r\n",
        "  else:\r\n",
        "    mminus = mminus + 1\r\n",
        "\r\n",
        "  # step 3\r\n",
        "  z_star = train1.sample()\r\n",
        "  if (check == 1):\r\n",
        "    zt = ztplus1\r\n",
        "\r\n",
        "\t# step 4\r\n",
        "  p1 = math.exp(-loss_fun(f0, zt))\r\n",
        "  p2 = math.exp(-loss_fun(f0, z_star))\r\n",
        "  P = p1 / p2\r\n",
        "\r\n",
        "  # step 5\r\n",
        "  yt = int(zt['class'].values)\r\n",
        "  y_star = int(z_star['class'].values)\r\n",
        "  if (k == 5):\r\n",
        "    ztplus1 = z_star\r\n",
        "    check = 1\r\n",
        "    \r\n",
        "    P_double_dash = 1.2 * P\r\n",
        "    if (P_double_dash > 1):\r\n",
        "      smpl.append(z_star.index)\r\n",
        "    else:\r\n",
        "      ran_p = random.uniform(0, 1)\r\n",
        "      if (P_double_dash > ran_p):\r\n",
        "        smpl.append(z_star.index)\r\n",
        "      \r\n",
        "      else:\r\n",
        "        k = 0\r\n",
        "        \r\n",
        "    continue\r\n",
        "\t\r\n",
        "  if ((P == 1 and yt == -1 and y_star == -1) or (P == 1 and yt == 1 and y_star == 1) ):\r\n",
        "    ind = z_star.index\r\n",
        "    x = z_star.drop(['class'], axis = 1).values[0].reshape(1, -1)\r\n",
        "    x1 = zt.drop(['class'], axis = 1).values[0].reshape(1, -1)\r\n",
        "    P_dash = math.exp(-y_star) * int(f0.predict(x)[0]) / (-yt * int(f0.predict(x1)[0]))\r\n",
        "    ran_p = random.uniform(0, 1)\r\n",
        "  \r\n",
        "    if (P_dash > ran_p):\r\n",
        "      smpl.append(z_star.index)\r\n",
        "      k = k + 1\r\n",
        "    else:\r\n",
        "      k = 0\r\n",
        "\r\n",
        "  if ((P == 1 and yt * y_star == -1) or (P < 1)):\r\n",
        "    ind = z_star.index\r\n",
        "    P_dash = P\r\n",
        "    ran_p = random.uniform(0, 1)\r\n",
        "\r\n",
        "    if (P_dash > ran_p):\r\n",
        "      smpl.append(z_star.index)\r\n",
        "      k = k + 1\r\n",
        "    else:\r\n",
        "      k = 0"
      ],
      "execution_count": 6,
      "outputs": []
    },
    {
      "cell_type": "code",
      "metadata": {
        "id": "pf8Ye9gBhcui"
      },
      "source": [
        "# finding the further to be processed samples\r\n",
        "further = []\r\n",
        "for i in range(len(smpl)):\r\n",
        "  further.append(int(smpl[i][0]))"
      ],
      "execution_count": 7,
      "outputs": []
    },
    {
      "cell_type": "code",
      "metadata": {
        "colab": {
          "base_uri": "https://localhost:8080/"
        },
        "id": "wCow62geZ4Q_",
        "outputId": "1b550432-02b3-475b-d28f-0ff7ed70bbaa"
      },
      "source": [
        "final_data = df.iloc[further]\r\n",
        "print(final_data.head())"
      ],
      "execution_count": 8,
      "outputs": [
        {
          "output_type": "stream",
          "text": [
            "      class  f1  f2  f3  f4  f5  f6  f7  ...  f9  f10  f11  f12  f13  f14  f15  f16\n",
            "4279      T   1   0   1   0   0   7  14  ...   4    7   10    8    0    8    0    8\n",
            "5860      G   5  10   7   8   8   9   6  ...   2    6    6   10    8    8    5   10\n",
            "15011     O   5  10   7   8   3   9   6  ...   8    7    5   10    3    8    4    8\n",
            "1680      F   4  10   6   8   3   4  13  ...   5   12   10    3    2   10    2    4\n",
            "3588      B   4   6   6   4   7   8   7  ...   2    6    7    8    5   10    9    8\n",
            "\n",
            "[5 rows x 17 columns]\n"
          ],
          "name": "stdout"
        }
      ]
    },
    {
      "cell_type": "code",
      "metadata": {
        "id": "uIoHALJJZ6AX",
        "colab": {
          "base_uri": "https://localhost:8080/"
        },
        "outputId": "d702b1ab-8b01-482e-de08-2718fa133d3b"
      },
      "source": [
        "# prediction using SVMC\r\n",
        "X1 = final_data.drop(['class'], axis = 1).values\r\n",
        "y1 = final_data['class']\r\n",
        "\r\n",
        "new_svmc = svm.SVC(kernel = 'linear', C = 1).fit(X1, y1)\r\n",
        "\r\n",
        "X = df.drop(['class'], axis = 1).values\r\n",
        "y = df['class']\r\n",
        "\r\n",
        "y_pred = new_svmc.predict(X)\r\n",
        "\r\n",
        "print(\"Accuracy of the model: \", accuracy_score(y, y_pred))"
      ],
      "execution_count": 9,
      "outputs": [
        {
          "output_type": "stream",
          "text": [
            "Accuracy of the model:  0.8475\n"
          ],
          "name": "stdout"
        }
      ]
    },
    {
      "cell_type": "code",
      "metadata": {
        "id": "6qvO0vY3l4q1"
      },
      "source": [
        ""
      ],
      "execution_count": 9,
      "outputs": []
    }
  ]
}
