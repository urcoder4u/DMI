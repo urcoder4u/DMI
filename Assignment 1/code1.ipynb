{
  "nbformat": 4,
  "nbformat_minor": 0,
  "metadata": {
    "colab": {
      "name": "code1.ipynb",
      "provenance": [],
      "collapsed_sections": []
    },
    "kernelspec": {
      "name": "python3",
      "display_name": "Python 3"
    }
  },
  "cells": [
    {
      "cell_type": "code",
      "metadata": {
        "id": "tdq4HuCoXbqH"
      },
      "source": [
        "import random\n",
        "import math\n",
        "import pandas as pd\n",
        "import numpy as np\n",
        "import matplotlib.pyplot as plt\n",
        "from sklearn import svm, datasets, metrics\n",
        "from sklearn.metrics import accuracy_score"
      ],
      "execution_count": 21,
      "outputs": []
    },
    {
      "cell_type": "code",
      "metadata": {
        "id": "arVkfoYNXyjp"
      },
      "source": [
        "# reading the dataset\n",
        "df = pd.read_csv(\"data.csv\")\n",
        "\n",
        "check = np.random.rand(len(df)) < 0.8\n",
        "train = df[check]\n",
        "test = df[~check]"
      ],
      "execution_count": 22,
      "outputs": []
    },
    {
      "cell_type": "code",
      "metadata": {
        "id": "fsN7F7DEX81d"
      },
      "source": [
        "# choosing 10000 samples only\n",
        "N1 = train.sample(10000)\n",
        "\n",
        "train1 = train.sample(9000)\n",
        "train1 = train1.replace('A', '1')\n",
        "train1 = train1.replace(['B', 'C', 'D', 'E', 'F', 'G', 'H', 'I', 'J', 'K', 'L', 'M', 'N', 'O', 'P', 'Q', 'R', 'S', 'T', 'U', 'V', 'W', 'X', 'Y', 'Z'], '-1')\n",
        "\n",
        "X = train1.drop(['class'], axis = 1).values\n",
        "y = train1['class']"
      ],
      "execution_count": 23,
      "outputs": []
    },
    {
      "cell_type": "code",
      "metadata": {
        "colab": {
          "base_uri": "https://localhost:8080/"
        },
        "id": "zaGuP1iiX-zW",
        "outputId": "3442058c-ed89-4df9-9405-790cb45a2ed8"
      },
      "source": [
        "# initial model\n",
        "svmc = svm.SVC(kernel = 'linear', C = 1).fit(X, y)\n",
        "f0 = svmc\n",
        "svmc.predict(X[0].reshape(1, -1))"
      ],
      "execution_count": 24,
      "outputs": [
        {
          "output_type": "execute_result",
          "data": {
            "text/plain": [
              "array(['-1'], dtype=object)"
            ]
          },
          "metadata": {
            "tags": []
          },
          "execution_count": 24
        }
      ]
    },
    {
      "cell_type": "code",
      "metadata": {
        "id": "6aveOYY9YCfG"
      },
      "source": [
        "# loss function as in paper\n",
        "def loss_fun(f, z):\n",
        "\tresult = 1 - int(float(f.predict(z.drop(['class'], axis = 1).values[0].reshape(1, -1))[0])) * int(z['class'].values)\n",
        "\treturn result"
      ],
      "execution_count": 25,
      "outputs": []
    },
    {
      "cell_type": "code",
      "metadata": {
        "id": "r2FCaujXYZsI"
      },
      "source": [
        "# m=3n\n",
        "n2 = 30\n",
        "k_val = 2\n",
        "fi = svmc\n",
        "smpl = []\n",
        "flag = 0\n",
        "fcurr = fi\n",
        "q = 1.2\n",
        "k = 0\n",
        "\n",
        "ztplus1 = train1.sample()\n",
        "for i in range(k_val + 1):\n",
        "  if (i != 0):\n",
        "    tobeusedlis = []\n",
        "    for j in range(len(smpl)):\n",
        "      tobeusedlis.append(int(smpl[j][0]))\n",
        "\n",
        "    tempdataset = df.iloc[tobeusedlis]\n",
        "    tempdataset = tempdataset.replace('A', '1')\n",
        "    tempdataset = tempdataset.replace(['B', 'C', 'D', 'E', 'F', 'G', 'H', 'I', 'J', 'K', 'L', 'M', 'N', 'O', 'P', 'Q', 'R', 'S', 'T', 'U', 'V', 'W', 'X', 'Y', 'Z'], '-1')\n",
        "    xtemp = tempdataset.drop(['class'], axis = 1).values\n",
        "    ytemp = tempdataset['class']\n",
        "    fcurr = svm.SVC(kernel = 'linear', C = 1).fit(xtemp, ytemp)\n",
        "\n",
        "  nplus = 0\n",
        "  nminus = 0\n",
        "  smpl.clear()\n",
        "  t = 1\n",
        "  checkflag = 0\n",
        "  zt = train1.sample()\n",
        "  if (int(zt['class'].values) == 1):\n",
        "    nplus = nplus + 1\n",
        "  else:\n",
        "    nminus = nminus + 1\n",
        "\n",
        "  while (nplus + nminus < len(train1)):\n",
        "    z_star = train1.sample()\n",
        "    if (checkflag == 0):\n",
        "      checkflag = 1\n",
        "    \n",
        "    if (flag == 1):\n",
        "      zt = ztplus1\n",
        "    \n",
        "    p1 = math.exp(-loss_fun(fcurr, zt))\n",
        "    p2 = math.exp(-loss_fun(fcurr, z_star))\n",
        "    alpha = p2 / p1\n",
        "    yt = int(zt['class'].values)\n",
        "    y_star = int(z_star['class'].values)\n",
        "\n",
        "    if (k == n2):\n",
        "      flag = 1\n",
        "      alpha2 = q * alpha\n",
        "    \n",
        "      if (alpha2 >= 1):\n",
        "        smpl.append(z_star.index)\n",
        "      else:\n",
        "        ran_p = random.uniform(0, 1)\n",
        "        if (alpha2 > ran_p):\n",
        "          smpl.append(zstar.index)\n",
        "          ztplus1 = z_star\n",
        "    \n",
        "          if (y_star == 1):\n",
        "            nplus = nplus + 1\n",
        "          else:\n",
        "            nminus = nminus + 1\n",
        "    \n",
        "        else:\n",
        "          k = 0\n",
        "        continue\n",
        "\n",
        "    if (alpha >= 1 and yt * y_star == 1):\n",
        "      ind = z_star.index\n",
        "      x = z_star.drop(['class'], axis = 1).values[0].reshape(1, -1)\n",
        "      x1 = zt.drop(['class'], axis = 1).values[0].reshape(1, -1)\n",
        "      P_dash = math.exp(-y_star) * int(fcurr.predict(x)[0]) / (-yt * int(fcurr.predict(x1)[0]))\n",
        "      ran_p = random.uniform(0, 1)\n",
        "      flag = 0\n",
        "    \n",
        "      if (P_dash > ran_p):\n",
        "        smpl.append(z_star.index)\n",
        "        if (y_star == 1):\n",
        "          nplus = nplus + 1\n",
        "        else:\n",
        "          nminus = nminus + 1\n",
        "    \n",
        "        k = k + 1\n",
        "      continue\n",
        "\n",
        "    if ((yt * y_star == -1 and alpha == 1) or (alpha < 1)):\n",
        "      ind = z_star.index\n",
        "      x = z_star.drop(['class'], axis = 1).values[0].reshape(1, -1)\n",
        "      x1 = zt.drop(['class'], axis = 1).values[0].reshape(1, -1)\n",
        "      ran_p = random.uniform(0, 1)\n",
        "      flag = 0\n",
        "     \n",
        "      if (alpha > ran_p):\n",
        "        smpl.append(z_star.index)\n",
        "        if (y_star == 1):\n",
        "          nplus = nplus + 1\n",
        "        else:\n",
        "          nminus = nminus + 1\n",
        "     \n",
        "        k = k + 1\n",
        "      continue"
      ],
      "execution_count": 26,
      "outputs": []
    },
    {
      "cell_type": "code",
      "metadata": {
        "id": "Ois_RFMVaf4v"
      },
      "source": [
        "# finding the further to be processed samples\n",
        "further = []\n",
        "for i in range(len(smpl)):\n",
        "  further.append(int(smpl[i][0]))"
      ],
      "execution_count": 27,
      "outputs": []
    },
    {
      "cell_type": "code",
      "metadata": {
        "id": "EtYgIrDIakKD",
        "colab": {
          "base_uri": "https://localhost:8080/"
        },
        "outputId": "b746adb0-1fd9-4486-cac9-1c5443323bed"
      },
      "source": [
        "final_data = df.iloc[further]\n",
        "print(final_data.head())"
      ],
      "execution_count": 28,
      "outputs": [
        {
          "output_type": "stream",
          "text": [
            "      class  f1  f2  f3  f4  f5  f6  f7  ...  f9  f10  f11  f12  f13  f14  f15  f16\n",
            "10310     M   8   8  11   7  12   8   8  ...   4    7    6    7   12    7    8    3\n",
            "7426      A   3   7   5   5   3  12   3  ...   2    9    2    9    2    5    2    8\n",
            "17285     Z   7  14   7   8   5   6   7  ...   9   12    7    8    4    6    7    6\n",
            "1332      X   7  10   7   5   4   6   9  ...   7   11   10    8    4   14    4    6\n",
            "14270     X   4   9   6   6   4   7   6  ...   8    5    6    9    3    8    7    8\n",
            "\n",
            "[5 rows x 17 columns]\n"
          ],
          "name": "stdout"
        }
      ]
    },
    {
      "cell_type": "code",
      "metadata": {
        "id": "QWA9AtnIaqgi",
        "colab": {
          "base_uri": "https://localhost:8080/"
        },
        "outputId": "016f9377-25ea-4199-8bec-e97cc39a9434"
      },
      "source": [
        "# prediction using SVMC\n",
        "X1 = final_data.drop(['class'], axis = 1).values\n",
        "y1 = final_data['class']\n",
        "\n",
        "new_svmc = svm.SVC(kernel = 'linear', C = 1).fit(X1, y1)\n",
        "\n",
        "X = df.drop(['class'], axis = 1).values\n",
        "y = df['class']\n",
        "\n",
        "y_pred = new_svmc.predict(X)\n",
        "\n",
        "print(\"Accuracy of the model: \", accuracy_score(y, y_pred))"
      ],
      "execution_count": 29,
      "outputs": [
        {
          "output_type": "stream",
          "text": [
            "Accuracy of the model:  0.848\n"
          ],
          "name": "stdout"
        }
      ]
    },
    {
      "cell_type": "code",
      "metadata": {
        "id": "D_5JgdRJAahs"
      },
      "source": [
        ""
      ],
      "execution_count": 29,
      "outputs": []
    }
  ]
}